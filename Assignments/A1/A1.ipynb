{
 "cells": [
  {
   "cell_type": "markdown",
   "metadata": {},
   "source": [
    "# Assignment 1: Web Scraping"
   ]
  },
  {
   "cell_type": "markdown",
   "metadata": {},
   "source": [
    "## Objective"
   ]
  },
  {
   "cell_type": "markdown",
   "metadata": {},
   "source": [
    "Data scientists often need to crawl data from websites and turn the crawled data (HTML pages) to structured data (tables). Thus, web scraping is an essential skill that every data scientist should master. In this assignment, you will learn the followings:\n",
    "\n",
    "\n",
    "* How to use [requests](http://www.python-requests.org/en/master/) to download HTML pages from a website?\n",
    "* How to select content on a webpage with [lxml](http://lxml.de/)? \n",
    "\n",
    "You can either use Spark DataFrame or [pandas.DataFrame](http://pandas.pydata.org/pandas-docs/stable/generated/pandas.DataFrame.html) to do the assignment. In comparison, pandas.DataFrame has richer APIs, but is not good at distributed computing."
   ]
  },
  {
   "cell_type": "markdown",
   "metadata": {},
   "source": [
    "## Preliminary"
   ]
  },
  {
   "cell_type": "markdown",
   "metadata": {},
   "source": [
    "If this is your first time to write a web scraper, you need to learn some basic knowledge of HTML, DOM, and XPath. I found that this is a good resource: [https://data-lessons.github.io](https://data-lessons.github.io/library-webscraping-DEPRECATED/). Please take a look at\n",
    "\n",
    "* [Selecting content on a web page with XPath\n",
    "](https://data-lessons.github.io/library-webscraping-DEPRECATED/xpath/)\n",
    "* [Web scraping using Python: requests and lxml](https://data-lessons.github.io/library-webscraping-DEPRECATED/04-lxml/). \n",
    "\n",
    "Please let me know if you find a better resource. I'll share it with the other students."
   ]
  },
  {
   "cell_type": "markdown",
   "metadata": {},
   "source": [
    "## Overview"
   ]
  },
  {
   "cell_type": "markdown",
   "metadata": {},
   "source": [
    "Imagine you are a data scientist working at SFU. One day, you want to analyze CS faculty data and answer two interesting questions:\n",
    "\n",
    "1. Who are the CS faculty members?\n",
    "2. What are their research interests?\n",
    "\n",
    "To do so, the first thing is to figure out what data to collect."
   ]
  },
  {
   "cell_type": "markdown",
   "metadata": {},
   "source": [
    "## Task 1: SFU CS Faculty Members"
   ]
  },
  {
   "cell_type": "markdown",
   "metadata": {},
   "source": [
    "You find that there is a web page in the CS school website, which lists all the faculty members as well as their basic information. \n",
    "\n",
    "In Task 1, your job is to write a web scraper to extract the faculty information from this page: [https://www.sfu.ca/computing/people/faculty.html](https://www.sfu.ca/computing/people/faculty.html).\n",
    "\n",
    "\n"
   ]
  },
  {
   "cell_type": "markdown",
   "metadata": {},
   "source": [
    "### (a) Crawling Web Page"
   ]
  },
  {
   "cell_type": "markdown",
   "metadata": {},
   "source": [
    "A web page is essentially a file stored in a remote machine (called web server). You can use [requests](http://www.python-requests.org/en/master/) to open such a file and read data from it. Please complete the following code to download the HTML page and save it as a text file (like [this](./faculty.txt)). "
   ]
  },
  {
   "cell_type": "code",
   "execution_count": 70,
   "metadata": {},
   "outputs": [],
   "source": [
    "import requests\n",
    "# 1. Download the webpage\n",
    "response = requests.get('https://www.sfu.ca/computing/people/faculty.html')\n",
    "# 2. Save it as a text file (named faculty.txt)\n",
    "file = open(\"faculty.txt\", \"w\")\n",
    "file.write(response.text)\n",
    "file.close()"
   ]
  },
  {
   "cell_type": "markdown",
   "metadata": {},
   "source": [
    "### (b) Extracting Structured Data"
   ]
  },
  {
   "cell_type": "markdown",
   "metadata": {},
   "source": [
    "An HTML page follows the Document Object Model (DOM). It models an HTML page as a tree structure wherein each node is an object representing a part of the page. The nodes can be searched and extracted programmatically using XPath. Please complete the following code to transform the above HTML page to a CSV file (like [this](./faculty_table.csv)). "
   ]
  },
  {
   "cell_type": "code",
   "execution_count": 71,
   "metadata": {},
   "outputs": [],
   "source": [
    "import lxml.html \n",
    "import pandas as pd\n",
    "import re\n",
    "\n",
    "# Initialize regex patterns\n",
    "area_pattern = 'Area:(.*)\\n'\n",
    "profile_pattern = '^(.*|/).(computing/).*\\.(html)$'\n",
    "homepage_pattern = '((^.*.(/~).*.)|(^.*.(people.html|/)$))'\n",
    "\n",
    "# Read downloaded faculty.txt file\n",
    "def read_file(filename):\n",
    "    file = open(filename,'r') \n",
    "    return file.read()\n",
    "\n",
    "#Parse tree and get the required sub section\n",
    "def get_sub_tree(file_value):\n",
    "    \n",
    "    # Parse the HTML page as a tree structure\n",
    "    tree = lxml.html.fromstring(file_value)\n",
    "    \n",
    "    # Extract related content from the tree using XPath\n",
    "    title_selected_elem = tree.cssselect('div.parsys_column.cq-colctrl-lt0.people.faculty-list')[0]\n",
    "    selected_sub_tree = title_selected_elem.xpath(\"//div[@class='text']\")\n",
    "    return selected_sub_tree\n",
    "\n",
    "# get name and rank value\n",
    "def get_name_rank(element):\n",
    "    name_rank_value = element.xpath(\"h4/text()\")\n",
    "    value = name_rank_value[0].split(',')\n",
    "    name = value[0]\n",
    "    rank = value[1]\n",
    "    return name,rank\n",
    "\n",
    "# get area value\n",
    "def get_area(element):\n",
    "    temp = element.text_content()\n",
    "    result = re.search(area_pattern, temp)\n",
    "    area = result.group(1)\n",
    "    return area\n",
    "\n",
    "# filter out profile links\n",
    "def filter_profile_values(link):\n",
    "    if 'people.html' not in link:\n",
    "        return re.search(profile_pattern, link)\n",
    "\n",
    "# get profile value\n",
    "def get_profile(profile_homepage):\n",
    "    profile_list = list(filter(filter_profile_values, profile_homepage))\n",
    "    if len(profile_list) < 1:\n",
    "        profile = ''\n",
    "    else:\n",
    "        profile = profile_list.pop()\n",
    "        profile = re.search(r'computing(.*?)html', profile).group(1)\n",
    "        profile =  'http://www.sfu.ca/computing'+profile+'html'\n",
    "    return profile\n",
    "\n",
    "# get homepage value\n",
    "def get_homepage(profile_homepage):\n",
    "    homepage_list = list(filter(lambda k: re.search( homepage_pattern, k) , profile_homepage))\n",
    "    if len(homepage_list) < 1:\n",
    "        homepage = ''\n",
    "    else:\n",
    "        homepage = homepage_list[0]\n",
    "    return homepage\n",
    "\n",
    "def main(filename):\n",
    "    \n",
    "    # Read downloaded faculty.txt file\n",
    "    file_value = read_file(filename)\n",
    "\n",
    "    # Initialize an empty dataframe with columns 'name','rank','area','profile','homepage'\n",
    "    df = pd.DataFrame(columns=['Name','Rank','Area','Profile','Homepage'])\n",
    "    \n",
    "    # Get sub section\n",
    "    sub_tree = get_sub_tree(file_value)\n",
    "    \n",
    "    # Interate through each element of the sub section\n",
    "    for element in sub_tree:\n",
    "        \n",
    "        # Getting required field values\n",
    "        name, rank = get_name_rank(element)\n",
    "        area = get_area(element)\n",
    "        profile_homepage = element.xpath(\"p/a/@href\")\n",
    "        profile = get_profile(profile_homepage)\n",
    "        homepage = get_homepage(profile_homepage)\n",
    "        \n",
    "        # Appending to dataframe\n",
    "        df = df.append({'Name': name,'Rank': rank, 'Area': area, 'Profile': profile,'Homepage':homepage}, ignore_index=True)\n",
    "    \n",
    "    # Save the extracted content as an csv file (named faculty_table.csv)\n",
    "    df.to_csv('faculty_table.csv', encoding='latin-1', index=False)\n",
    "    \n",
    "if __name__ == '__main__':\n",
    "    filename = 'faculty.txt'\n",
    "    main(filename)"
   ]
  },
  {
   "cell_type": "markdown",
   "metadata": {},
   "source": [
    "## Task 2: Research Interests"
   ]
  },
  {
   "cell_type": "markdown",
   "metadata": {},
   "source": [
    "Suppose you want to know the research interests of each faculty. However, the above crawled web page does not contain such information. "
   ]
  },
  {
   "cell_type": "markdown",
   "metadata": {},
   "source": [
    "### (a) Crawling Web Page"
   ]
  },
  {
   "cell_type": "markdown",
   "metadata": {},
   "source": [
    "You notice that such information can be found on the profile page of each faculty. For example, you can find the research interests of Dr. Jiannan Wang from [http://www.sfu.ca/computing/people/faculty/jiannanwang.html](http://www.sfu.ca/computing/people/faculty/jiannanwang.html). \n",
    "\n",
    "\n",
    "Please complete the following code to download the profile pages and save them as text files. There are 60 faculties, so you need to download 60 web pages in total. "
   ]
  },
  {
   "cell_type": "code",
   "execution_count": 72,
   "metadata": {},
   "outputs": [],
   "source": [
    "import requests\n",
    "import pandas as pd\n",
    "import os\n",
    "\n",
    "# Download the profile pages of 60 faculties\n",
    "def download_faculty_profile_pages():\n",
    "    \n",
    "    # Read faculty_table.csv to a pandas dataframe\n",
    "    table = pd.read_csv(\"faculty_table.csv\",encoding='latin1')\n",
    "    \n",
    "    # Fetch all faculty profile links\n",
    "    faculty_profile_links = table['Profile'].fillna('')\n",
    "    \n",
    "    # Initialize index\n",
    "    index = 0\n",
    "    \n",
    "    # Iterate through each profile link and save the output html in faculty_profile_pages folder\n",
    "    for profile_link in faculty_profile_links:\n",
    "        if len(profile_link) > 0:\n",
    "            page_name = './faculty_profile_pages/'+str(index)+'.txt'\n",
    "            response = requests.get(profile_link)\n",
    "            os.makedirs(os.path.dirname(page_name), exist_ok=True)\n",
    "            with open(page_name, \"w\") as f:\n",
    "                # Save each page as a text file\n",
    "                f.write(response.text)\n",
    "                f.close()\n",
    "        index = index + 1\n",
    "\n",
    "download_faculty_profile_pages()\n",
    "\n"
   ]
  },
  {
   "cell_type": "markdown",
   "metadata": {},
   "source": [
    "### (b) Extracting Structured Data"
   ]
  },
  {
   "cell_type": "markdown",
   "metadata": {},
   "source": [
    "Please complete the following code to extract the research interests of each faculty, and generate a file like [this](./faculty_more_table.csv). "
   ]
  },
  {
   "cell_type": "code",
   "execution_count": 74,
   "metadata": {},
   "outputs": [
    {
     "name": "stderr",
     "output_type": "stream",
     "text": [
      "/anaconda3/envs/CMPT-732/lib/python3.7/site-packages/ipykernel_launcher.py:43: FutureWarning: set_value is deprecated and will be removed in a future release. Please use .at[] or .iat[] accessors instead\n"
     ]
    }
   ],
   "source": [
    "import lxml.html \n",
    "import pandas as pd\n",
    "import re\n",
    "import requests\n",
    "import unicodedata\n",
    "\n",
    "def add_faculty_research():\n",
    "    \n",
    "    # Read faculty_table.csv to a pandas dataframe\n",
    "    table = pd.read_csv(\"faculty_table.csv\",encoding='latin1').fillna('')\n",
    "    table[\"Research_Interests\"] = ''\n",
    "    \n",
    "    # Fetch all faculty profile links\n",
    "    faculty_profile_links = table['Profile'].fillna('')\n",
    "    \n",
    "    # Initialize index\n",
    "    index = 0\n",
    "    \n",
    "     # Iterate through each profile link\n",
    "    for profile_link in faculty_profile_links:\n",
    "        if len(profile_link) > 0:\n",
    "            \n",
    "            # Read the profile html page with the current index value\n",
    "            profile_path = './faculty_profile_pages/'+str(index)+'.txt'\n",
    "            file = open(profile_path,'r')\n",
    "            file_value = file.read()\n",
    "            \n",
    "            # Parse the HTML page as a tree structure\n",
    "            tree = lxml.html.fromstring(file_value)\n",
    "            \n",
    "            # Extract related content from the tree using XPath\n",
    "            research_interest_section = tree.xpath(\"//div[@class='text parbase section']/div[contains(translate(., 'RI', 'ri'),'research interests')]/ul/li\")\n",
    "            \n",
    "            faculty_research_interest = []\n",
    "            \n",
    "            # Iterate through each faculty research_interest and perform some cleaning\n",
    "            for research_interest in research_interest_section:\n",
    "                normalize_research_interest = unicodedata.normalize(\"NFKD\",research_interest.text_content())\n",
    "                cleaned_research_interest = normalize_research_interest.replace('\\n','')\n",
    "                faculty_research_interest.append(cleaned_research_interest)\n",
    "            \n",
    "            # Add the faculty_research_interest list\n",
    "            table.set_value(index,'Research_Interests', faculty_research_interest)\n",
    "            \n",
    "        index = index+1\n",
    "    # Save the extracted content as an csv file (named faculty_more_table.csv)\n",
    "    table.to_csv('faculty_more_table.csv', encoding='latin-1', index=False)\n",
    "\n",
    "add_faculty_research()\n",
    "\n"
   ]
  },
  {
   "cell_type": "markdown",
   "metadata": {},
   "source": [
    "## Submission"
   ]
  },
  {
   "cell_type": "markdown",
   "metadata": {},
   "source": [
    "Complete the code in this [notebook](A1.ipynb), and submit it to the CourSys activity `Assignment 1`."
   ]
  }
 ],
 "metadata": {
  "kernelspec": {
   "display_name": "Python 3",
   "language": "python",
   "name": "python3"
  },
  "language_info": {
   "codemirror_mode": {
    "name": "ipython",
    "version": 3
   },
   "file_extension": ".py",
   "mimetype": "text/x-python",
   "name": "python",
   "nbconvert_exporter": "python",
   "pygments_lexer": "ipython3",
   "version": "3.7.1"
  }
 },
 "nbformat": 4,
 "nbformat_minor": 1
}
