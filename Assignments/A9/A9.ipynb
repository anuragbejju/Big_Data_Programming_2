{
 "cells": [
  {
   "cell_type": "markdown",
   "metadata": {
    "extensions": {
     "jupyter_dashboards": {
      "version": 1,
      "views": {
       "grid_default": {},
       "report_default": {}
      }
     }
    }
   },
   "source": [
    "# Assignment 9 - NLP using Deep Learning"
   ]
  },
  {
   "cell_type": "markdown",
   "metadata": {
    "extensions": {
     "jupyter_dashboards": {
      "version": 1,
      "views": {
       "grid_default": {},
       "report_default": {}
      }
     }
    }
   },
   "source": [
    "## Goals"
   ]
  },
  {
   "cell_type": "markdown",
   "metadata": {
    "extensions": {
     "jupyter_dashboards": {
      "version": 1,
      "views": {
       "grid_default": {},
       "report_default": {}
      }
     }
    }
   },
   "source": [
    "In this assignment you will get to work with recurrent network architectures with application to language processing tasks and observe behaviour of the learning using tensorboard visualization.\n",
    "\n",
    "You'll learn to use\n",
    "\n",
    " * word embeddings,\n",
    " * LSTMs,\n",
    " * tensorboard visualization to develop and tune deep learning architectures.\n"
   ]
  },
  {
   "cell_type": "markdown",
   "metadata": {
    "extensions": {
     "jupyter_dashboards": {
      "version": 1,
      "views": {
       "grid_default": {},
       "report_default": {}
      }
     }
    }
   },
   "source": [
    "## Use the deep learning environment in the lab"
   ]
  },
  {
   "cell_type": "markdown",
   "metadata": {
    "extensions": {
     "jupyter_dashboards": {
      "version": 1,
      "views": {
       "grid_default": {},
       "report_default": {}
      }
     }
    }
   },
   "source": [
    "With the same kind of preparation as in [Assignment 6](../A6/A6.html) we are going to use [pytorch](http://pytorch.org) for the deep learning aspects of the assignment. \n",
    "\n",
    "There is a `pytorch` setup in the big data lab under the globally available anaconda installation.\n",
    "However, it is recommended that you use the custom **py36** conda environment that contains all python package dependencies that are relevant for this assignment (and also nltk, gensim, tensorflow, keras, and tensorboard)."
   ]
  },
  {
   "cell_type": "markdown",
   "metadata": {
    "extensions": {
     "jupyter_dashboards": {
      "version": 1,
      "views": {
       "grid_default": {},
       "report_default": {}
      }
     }
    }
   },
   "source": [
    "Either you load it directly\n",
    "```\n",
    "source activate /usr/shared/CMPT/big-data/condaenv/py36\n",
    "```\n",
    "or you prepare\n",
    "```\n",
    "cd ~\n",
    "mkdir -p .conda/envs\n",
    "ln -s /usr/shared/CMPT/big-data/condaenv/py36 .conda/envs\n",
    "```\n",
    "and from thereon simply use\n",
    "```\n",
    "source activate py36\n",
    "```"
   ]
  },
  {
   "cell_type": "markdown",
   "metadata": {
    "extensions": {
     "jupyter_dashboards": {
      "version": 1,
      "views": {
       "grid_default": {},
       "report_default": {}
      }
     }
    }
   },
   "source": [
    "Also, there are some relevant datasets available in our shared folder."
   ]
  },
  {
   "cell_type": "code",
   "execution_count": 1,
   "metadata": {
    "extensions": {
     "jupyter_dashboards": {
      "version": 1,
      "views": {
       "grid_default": {},
       "report_default": {}
      }
     }
    }
   },
   "outputs": [],
   "source": [
    "import os\n",
    "bdenv_loc = '/usr/shared/CMPT/big-data'\n",
    "bdata = os.path.join(bdenv_loc,'data')"
   ]
  },
  {
   "cell_type": "markdown",
   "metadata": {
    "extensions": {
     "jupyter_dashboards": {
      "version": 1,
      "views": {
       "grid_default": {},
       "report_default": {}
      }
     }
    }
   },
   "source": [
    "# Task 1: Explore Word Embeddings"
   ]
  },
  {
   "cell_type": "markdown",
   "metadata": {
    "extensions": {
     "jupyter_dashboards": {
      "version": 1,
      "views": {
       "grid_default": {},
       "report_default": {}
      }
     }
    }
   },
   "source": [
    "Word embeddings are mappings between words and multi-dimensional vectors, where the difference between two word vectors has some relationship with the meaning of the corresponding words, i.e. words that are similar in meaning are mapped closely together (ideally). This part of the assignment should enable you to\n",
    "\n",
    "* Load a pretrained word embedding\n",
    "* Perform basic operations, such as distance queries and evaluate simple analogies\n",
    "\n",
    "Note, each of the tasks below can be addressed with one or two lines of code using the [word2vec API in gensim](https://radimrehurek.com/gensim/models/word2vec.html)."
   ]
  },
  {
   "cell_type": "code",
   "execution_count": 2,
   "metadata": {
    "extensions": {
     "jupyter_dashboards": {
      "version": 1,
      "views": {
       "grid_default": {},
       "report_default": {}
      }
     }
    }
   },
   "outputs": [],
   "source": [
    "import gensim\n",
    "# Load Google's pre-trained Word2Vec model, trained on news articles\n",
    "model = gensim.models.KeyedVectors.load_word2vec_format(\n",
    "    os.path.join(bdata,'GoogleNews-vectors-negative300.bin'), binary=True)"
   ]
  },
  {
   "cell_type": "markdown",
   "metadata": {
    "extensions": {
     "jupyter_dashboards": {
      "version": 1,
      "views": {
       "grid_default": {},
       "report_default": {}
      }
     }
    }
   },
   "source": [
    "Obtain a vector representation for a word of your choice.\n",
    "To confirm that this worked, print out the number of elements of the vector."
   ]
  },
  {
   "cell_type": "code",
   "execution_count": 81,
   "metadata": {
    "extensions": {
     "jupyter_dashboards": {
      "version": 1,
      "views": {
       "grid_default": {},
       "report_default": {}
      }
     }
    }
   },
   "outputs": [
    {
     "name": "stdout",
     "output_type": "stream",
     "text": [
      "\u001b[1;31m The number of elements for burger vector are: \u001b[0m 300\n"
     ]
    }
   ],
   "source": [
    "import warnings\n",
    "warnings.filterwarnings('ignore')\n",
    "\n",
    "vector = model.wv['burger'] \n",
    "print('\\x1b[1;31m The number of elements for burger vector are: \\x1b[0m',len(vector))"
   ]
  },
  {
   "cell_type": "markdown",
   "metadata": {
    "extensions": {
     "jupyter_dashboards": {
      "version": 1,
      "views": {
       "grid_default": {},
       "report_default": {}
      }
     }
    }
   },
   "source": [
    "Determine the 10 words that are closest in the embedding to the word vector you produced above."
   ]
  },
  {
   "cell_type": "code",
   "execution_count": 83,
   "metadata": {
    "extensions": {
     "jupyter_dashboards": {
      "version": 1,
      "views": {
       "grid_default": {},
       "report_default": {}
      }
     }
    }
   },
   "outputs": [
    {
     "name": "stdout",
     "output_type": "stream",
     "text": [
      "\u001b[1;31m The most similar words for burger are: \u001b[0m\n"
     ]
    },
    {
     "data": {
      "text/plain": [
       "[('burgers', 0.8277538418769836),\n",
       " ('hamburger', 0.7784732580184937),\n",
       " ('cheeseburger', 0.7732071876525879),\n",
       " ('sandwich', 0.7488895058631897),\n",
       " ('burrito', 0.7377750873565674),\n",
       " ('gourmet_burger', 0.7203285694122314),\n",
       " ('chicken_sandwich', 0.6972609758377075),\n",
       " ('bacon_cheeseburger', 0.6913172006607056),\n",
       " ('fries', 0.6894726753234863),\n",
       " ('taco', 0.6799392104148865)]"
      ]
     },
     "execution_count": 83,
     "metadata": {},
     "output_type": "execute_result"
    }
   ],
   "source": [
    "print('\\x1b[1;31m The most similar words for burger are: \\x1b[0m')\n",
    "model.wv.most_similar('burger')\n"
   ]
  },
  {
   "cell_type": "markdown",
   "metadata": {
    "extensions": {
     "jupyter_dashboards": {
      "version": 1,
      "views": {
       "grid_default": {},
       "report_default": {}
      }
     }
    }
   },
   "source": [
    "Are the nearest neighbours similar in meaning?\n",
    "Try different seed words, until you find one whose neighbourhood looks OK."
   ]
  },
  {
   "cell_type": "markdown",
   "metadata": {
    "extensions": {
     "jupyter_dashboards": {
      "version": 1,
      "views": {
       "grid_default": {},
       "report_default": {}
      }
     }
    }
   },
   "source": [
    "Using a combination of positive and negative words, find out which word is most\n",
    "similar to `woman + king - man`. Note that gensim's API allows you to combine positive and negative words without explicitly obtaing their vectors."
   ]
  },
  {
   "cell_type": "code",
   "execution_count": 84,
   "metadata": {
    "extensions": {
     "jupyter_dashboards": {
      "version": 1,
      "views": {
       "grid_default": {},
       "report_default": {}
      }
     }
    }
   },
   "outputs": [
    {
     "name": "stdout",
     "output_type": "stream",
     "text": [
      "\u001b[1;31m The word most similar to woman + king - man is: \u001b[0m\n"
     ]
    },
    {
     "data": {
      "text/plain": [
       "[('queen', 0.7118192911148071)]"
      ]
     },
     "execution_count": 84,
     "metadata": {},
     "output_type": "execute_result"
    }
   ],
   "source": [
    "print('\\x1b[1;31m The word most similar to woman + king - man is: \\x1b[0m')\n",
    "model.wv.most_similar(positive=[\"woman\", \"king\"], negative=[\"man\"], topn=1)"
   ]
  },
  {
   "cell_type": "markdown",
   "metadata": {
    "extensions": {
     "jupyter_dashboards": {
      "version": 1,
      "views": {
       "grid_default": {},
       "report_default": {}
      }
     }
    }
   },
   "source": [
    "You may find that the results of most word analogy combinations don't work as well as we'd hope.\n",
    "\n",
    "Explore a bit and *show two more cases* where the output of gensim's built-in word vector algebra looks somewhat meaningful, i.e. show more word analogy examples or produce lists of words where a word that doesn't match is identified."
   ]
  },
  {
   "cell_type": "code",
   "execution_count": 88,
   "metadata": {},
   "outputs": [
    {
     "name": "stdout",
     "output_type": "stream",
     "text": [
      "\u001b[1;31m Negative Case \u001b[0m\n",
      "\u001b[1;32m Expectation: Dry fruits like almonds, cashew or walnuts \u001b[0m\n",
      "\u001b[1;32m Output: Gave fruits like apricots and berries \u001b[0m\n"
     ]
    },
    {
     "data": {
      "text/plain": [
       "[('apricots', 0.6278361082077026),\n",
       " ('fruit', 0.613782525062561),\n",
       " ('apricots_peaches', 0.6135222315788269),\n",
       " ('cherries_plums', 0.6108611822128296),\n",
       " ('pears', 0.6071839332580566),\n",
       " ('cherries_strawberries', 0.6040463447570801),\n",
       " ('citrus_fruits', 0.603365421295166),\n",
       " ('almonds', 0.5957517027854919),\n",
       " ('apricots_cherries', 0.5948020219802856),\n",
       " ('navel_orange', 0.5922123193740845)]"
      ]
     },
     "execution_count": 88,
     "metadata": {},
     "output_type": "execute_result"
    }
   ],
   "source": [
    "print('\\x1b[1;31m Negative Case \\x1b[0m')\n",
    "print('\\x1b[1;32m Expectation: Dry fruits like almonds, cashew or walnuts \\x1b[0m')\n",
    "print('\\x1b[1;32m Output: Gave fruits like apricots and berries \\x1b[0m')\n",
    "model.wv.most_similar(positive=[\"dry\",\"fruits\",\"almond\"],negative=[\"water\"] ,topn=10)"
   ]
  },
  {
   "cell_type": "code",
   "execution_count": 109,
   "metadata": {
    "extensions": {
     "jupyter_dashboards": {
      "version": 1,
      "views": {
       "grid_default": {},
       "report_default": {}
      }
     }
    }
   },
   "outputs": [
    {
     "name": "stdout",
     "output_type": "stream",
     "text": [
      "\u001b[1;31m Good Case \u001b[0m\n",
      "\u001b[1;32m Expectation: List unhealthy food items \u001b[0m\n",
      "\u001b[1;32m Output: Suggested unhealthy food items like pizzas and onion rings \u001b[0m\n"
     ]
    },
    {
     "data": {
      "text/plain": [
       "[('sandwiches', 0.6979721188545227),\n",
       " ('pizzas', 0.6846280097961426),\n",
       " ('onion_rings', 0.6760886907577515),\n",
       " ('sandwich', 0.6760151386260986),\n",
       " ('pepperoni_pizza', 0.6571165323257446),\n",
       " ('burger', 0.6570249795913696),\n",
       " ('meatball_sandwich', 0.6558449268341064),\n",
       " ('burgers', 0.6531314253807068),\n",
       " ('crab_rangoon', 0.6487309336662292),\n",
       " ('ravioli', 0.6451458930969238)]"
      ]
     },
     "execution_count": 109,
     "metadata": {},
     "output_type": "execute_result"
    }
   ],
   "source": [
    "print('\\x1b[1;31m Good Case \\x1b[0m')\n",
    "print('\\x1b[1;32m Expectation: List unhealthy food items \\x1b[0m')\n",
    "print('\\x1b[1;32m Output: Suggested unhealthy food items like pizzas and onion rings \\x1b[0m')\n",
    "model.wv.most_similar(positive=[\"noodles\",\"pizza\",\"fries\"] , negative=[\"healthy\"],topn=10)\n",
    "\n",
    "#\"\"\"Good case: Got fruits and vegetables\"\"\"\n",
    "#model.wv.most_similar(positive=[\"red\",\"vegetables\",\"fruit\"], topn=10)\n"
   ]
  },
  {
   "cell_type": "markdown",
   "metadata": {
    "extensions": {
     "jupyter_dashboards": {
      "version": 1,
      "views": {
       "grid_default": {},
       "report_default": {}
      }
     }
    }
   },
   "source": [
    "# Task 2: Sequence modeling with RNNs"
   ]
  },
  {
   "cell_type": "markdown",
   "metadata": {
    "extensions": {
     "jupyter_dashboards": {
      "version": 1,
      "views": {
       "grid_default": {},
       "report_default": {}
      }
     }
    }
   },
   "source": [
    "In this task you will get to use a learning and a rule-based model of text sentiment analysis. To keep things simple, you will receive almost all the code and are just left with the task to tune the given algorithms, see the part about instrumentation below."
   ]
  },
  {
   "cell_type": "markdown",
   "metadata": {
    "extensions": {
     "jupyter_dashboards": {
      "version": 1,
      "views": {
       "grid_default": {},
       "report_default": {}
      }
     }
    }
   },
   "source": [
    "First let's create a simple LSTM model that is capable of producing a label for a sequence of vector encoded words, based on code from [this repo](https://github.com/clairett/pytorch-sentiment-classification)."
   ]
  },
  {
   "cell_type": "code",
   "execution_count": 1,
   "metadata": {
    "extensions": {
     "jupyter_dashboards": {
      "version": 1,
      "views": {
       "grid_default": {},
       "report_default": {}
      }
     }
    }
   },
   "outputs": [],
   "source": [
    "import torch\n",
    "from torch.autograd import Variable\n",
    "import torch.nn as nn\n",
    "import torch.nn.functional as F\n",
    "\n",
    "class LSTMSentiment(nn.Module):\n",
    "\n",
    "    def __init__(self, embedding_dim, hidden_dim, vocab_size, label_size,\n",
    "                 use_gpu, batch_size, dropout=0.5, bidirectional=False):\n",
    "        \"\"\"Prepare individual layers\"\"\"\n",
    "        super(LSTMSentiment, self).__init__()\n",
    "        self.hidden_dim = hidden_dim\n",
    "        self.use_gpu = use_gpu\n",
    "        self.batch_size = batch_size\n",
    "        self.dropout = dropout\n",
    "        self.num_directions = 2 if bidirectional else 1\n",
    "        self.embeddings = nn.Embedding(vocab_size, embedding_dim)\n",
    "        self.lstm = nn.LSTM(input_size=embedding_dim, hidden_size=hidden_dim, bidirectional=bidirectional)\n",
    "        self.hidden2label = nn.Linear(hidden_dim*self.num_directions, label_size)\n",
    "        self.hidden = self.init_hidden()\n",
    "\n",
    "    def init_hidden(self):\n",
    "        \"\"\"Choose appropriate size and type of hidden layer\"\"\"\n",
    "        # first is the hidden h\n",
    "        # second is the cell c\n",
    "        if self.use_gpu:\n",
    "            return (Variable(torch.zeros(self.num_directions, self.batch_size, self.hidden_dim).cuda()),\n",
    "                    Variable(torch.zeros(self.num_directions, self.batch_size, self.hidden_dim).cuda()))\n",
    "        else:\n",
    "            return (Variable(torch.zeros(self.num_directions, self.batch_size, self.hidden_dim)),\n",
    "                    Variable(torch.zeros(self.num_directions, self.batch_size, self.hidden_dim)))\n",
    "\n",
    "    def forward(self, sentence):\n",
    "        \"\"\"Use the layers of this model to propagate input and return class log probabilities\"\"\"\n",
    "        if self.use_gpu:\n",
    "            sentence = sentence.cuda()\n",
    "        x = self.embeddings(sentence).view(len(sentence), self.batch_size, -1)\n",
    "        lstm_out, self.hidden = self.lstm(x, self.hidden)\n",
    "        \n",
    "        y = self.hidden2label(lstm_out[-1])\n",
    "        log_probs = F.log_softmax(y, dim=0)\n",
    "        return log_probs\n"
   ]
  },
  {
   "cell_type": "code",
   "execution_count": 2,
   "metadata": {
    "extensions": {
     "jupyter_dashboards": {
      "version": 1,
      "views": {
       "grid_default": {},
       "report_default": {}
      }
     }
    }
   },
   "outputs": [],
   "source": [
    "from torch import optim\n",
    "import time, random\n",
    "import os\n",
    "from tqdm import tqdm_notebook as tqdm\n",
    "tqdm.write = print\n",
    "from torchtext import data\n",
    "import numpy as np\n",
    "import argparse\n",
    "\n",
    "torch.set_num_threads(8)\n",
    "torch.manual_seed(1)\n",
    "random.seed(1)\n",
    "\n",
    "\n",
    "def load_bin_vec(fname, vocab):\n",
    "    \"\"\"\n",
    "    Loads 300x1 word vecs from Google (Mikolov) word2vec\n",
    "    \"\"\"\n",
    "    word_vecs = {}\n",
    "    with open(fname, \"rb\") as f:\n",
    "        header = f.readline()\n",
    "        vocab_size, layer1_size = map(int, header.split())\n",
    "        binary_len = np.dtype('float32').itemsize * layer1_size\n",
    "        for line in range(vocab_size):\n",
    "            word = []\n",
    "            while True:\n",
    "                ch = f.read(1).decode('latin-1')\n",
    "                if ch == ' ':\n",
    "                    word = ''.join(word)\n",
    "                    break\n",
    "                if ch != '\\n':\n",
    "                    word.append(ch)\n",
    "            if word in vocab:\n",
    "               word_vecs[word] = np.frombuffer(f.read(binary_len), dtype='float32')\n",
    "            else:\n",
    "                f.read(binary_len)\n",
    "    return word_vecs\n",
    "\n",
    "\n",
    "def get_accuracy(truth, pred):\n",
    "    assert len(truth) == len(pred)\n",
    "    right = 0\n",
    "    for i in range(len(truth)):\n",
    "        if truth[i].item() == pred[i]:\n",
    "            right += 1.0\n",
    "    return right / len(truth)\n",
    "\n",
    "\n",
    "def train_epoch_progress(model, train_iter, loss_function, optimizer, text_field, label_field, epoch):\n",
    "    model.train()\n",
    "    avg_loss = 0.0\n",
    "    truth_res = []\n",
    "    pred_res = []\n",
    "    count = 0\n",
    "    for batch in tqdm(train_iter, desc='Train epoch '+str(epoch+1)):\n",
    "        sent, label = batch.text, batch.label\n",
    "        label.data.sub_(1)\n",
    "        truth_res += list(label.data)\n",
    "        model.batch_size = len(label.data)\n",
    "        model.hidden = model.init_hidden()\n",
    "        pred = model(sent)\n",
    "        if USE_GPU:\n",
    "            pred_label = pred.data.max(1)[1].cpu().numpy()\n",
    "        else:\n",
    "            pred_label = pred.data.max(1)[1].numpy()\n",
    "        pred_res += [x for x in pred_label]\n",
    "        model.zero_grad()\n",
    "        loss = loss_function(pred, label)\n",
    "        avg_loss += loss.data.item()\n",
    "        count += 1\n",
    "        loss.backward()\n",
    "        optimizer.step()\n",
    "    avg_loss /= len(train_iter)\n",
    "    acc = get_accuracy(truth_res, pred_res)\n",
    "    return avg_loss, acc\n",
    "\n",
    "\n",
    "def train_epoch(model, train_iter, loss_function, optimizer):\n",
    "    model.train()\n",
    "    avg_loss = 0.0\n",
    "    truth_res = []\n",
    "    pred_res = []\n",
    "    count = 0\n",
    "    for batch in train_iter:\n",
    "        sent, label = batch.text, batch.label\n",
    "        label.data.sub_(1)\n",
    "        truth_res += list(label.data)\n",
    "        model.batch_size = len(label.data)\n",
    "        model.hidden = model.init_hidden()\n",
    "        pred = model(sent)\n",
    "        if USE_GPU:\n",
    "            pred_label = pred.data.max(1)[1].cpu().numpy()\n",
    "        else:\n",
    "            pred_label = pred.data.max(1)[1].numpy()\n",
    "        pred_res += [x for x in pred_label]\n",
    "        model.zero_grad()\n",
    "        loss = loss_function(pred, label)\n",
    "        avg_loss += loss.data.item()\n",
    "        count += 1\n",
    "        loss.backward()\n",
    "        optimizer.step()\n",
    "    avg_loss /= len(train_iter)\n",
    "    acc = get_accuracy(truth_res, pred_res)\n",
    "    return avg_loss, acc\n",
    "\n",
    "\n",
    "def evaluate(model, data, loss_function, name):\n",
    "    model.eval()\n",
    "    avg_loss = 0.0\n",
    "    truth_res = []\n",
    "    pred_res = []\n",
    "    for batch in data:\n",
    "        sent, label = batch.text, batch.label\n",
    "        label.data.sub_(1)\n",
    "        truth_res += list(label.data)\n",
    "        model.batch_size = len(label.data)\n",
    "        model.hidden = model.init_hidden()\n",
    "        pred = model(sent)\n",
    "        if USE_GPU:\n",
    "            pred_label = pred.data.max(1)[1].cpu().numpy()\n",
    "        else:\n",
    "            pred_label = pred.data.max(1)[1].numpy()\n",
    "        pred_res += [x for x in pred_label]\n",
    "        loss = loss_function(pred, label)\n",
    "        avg_loss += loss.data.item()\n",
    "    avg_loss /= len(data)\n",
    "    acc = get_accuracy(truth_res, pred_res)\n",
    "    print(name + ': loss %.2f acc %.1f' % (avg_loss, acc*100))\n",
    "    return avg_loss, acc\n",
    "\n",
    "\n",
    "def load_sst(text_field, label_field, batch_size, use_gpu=True):\n",
    "    train, dev, test = data.TabularDataset.splits(path=os.path.join(bdata,'sst2'), train='train.tsv',\n",
    "                                                  validation='dev.tsv', test='test.tsv', format='tsv',\n",
    "                                                  fields=[('text', text_field), ('label', label_field)])\n",
    "    text_field.build_vocab(train, dev, test)\n",
    "    label_field.build_vocab(train, dev, test)\n",
    "    train_iter, dev_iter, test_iter = data.BucketIterator.splits((train, dev, test),\n",
    "                                                                 batch_sizes=(batch_size, len(dev), len(test)),\n",
    "                                                                 sort_key=lambda x: len(x.text), repeat=False,\n",
    "                                                                 device=torch.device(\"cuda\" if use_gpu else \"cpu\"))\n",
    "    return train_iter, dev_iter, test_iter\n"
   ]
  },
  {
   "cell_type": "markdown",
   "metadata": {
    "extensions": {
     "jupyter_dashboards": {
      "version": 1,
      "views": {
       "grid_default": {},
       "report_default": {}
      }
     }
    }
   },
   "source": [
    "**TODO:** After instrumentation with the summary writer (see further below), tune these parameters to improve the performance of the model."
   ]
  },
  {
   "cell_type": "code",
   "execution_count": 40,
   "metadata": {
    "extensions": {
     "jupyter_dashboards": {
      "version": 1,
      "views": {
       "grid_default": {},
       "report_default": {}
      }
     }
    }
   },
   "outputs": [],
   "source": [
    "EPOCHS = 10\n",
    "USE_GPU = torch.cuda.is_available()\n",
    "#EMBEDDING_TYPE = 'glove'\n",
    "EMBEDDING_TYPE = 'word2vec'\n",
    "EMBEDDING_DIM = 300\n",
    "HIDDEN_DIM = 150\n",
    "USE_BILSTM = False\n",
    "DROPOUT = .20\n",
    "LEARNING_RATE = 1e-3\n",
    "BATCH_SIZE = 10\n",
    "\n",
    "timestamp = str(int(time.time()))\n",
    "best_dev_acc = 0.0\n",
    "\n",
    "text_field = data.Field(lower=True)\n",
    "label_field = data.Field(sequential=False)\n",
    "train_iter, dev_iter, test_iter = load_sst(text_field, label_field, BATCH_SIZE, USE_GPU)\n",
    "\n",
    "model = LSTMSentiment(embedding_dim=EMBEDDING_DIM, hidden_dim=HIDDEN_DIM,\n",
    "                      vocab_size=len(text_field.vocab), label_size=len(label_field.vocab)-1,\\\n",
    "                      use_gpu=USE_GPU, batch_size=BATCH_SIZE, dropout=DROPOUT, bidirectional=USE_BILSTM)\n",
    "\n",
    "if USE_GPU:\n",
    "    model = model.cuda()\n",
    "\n",
    "best_model = model\n",
    "optimizer = optim.Adam(model.parameters(), lr=LEARNING_RATE)\n",
    "loss_function = nn.NLLLoss()"
   ]
  },
  {
   "cell_type": "markdown",
   "metadata": {
    "extensions": {
     "jupyter_dashboards": {
      "version": 1,
      "views": {
       "grid_default": {},
       "report_default": {}
      }
     }
    }
   },
   "source": [
    "The code below lets you try other embedding types, but for this assignment it is fine to keep using word2vec."
   ]
  },
  {
   "cell_type": "code",
   "execution_count": 41,
   "metadata": {
    "extensions": {
     "jupyter_dashboards": {
      "version": 1,
      "views": {
       "grid_default": {},
       "report_default": {}
      }
     }
    }
   },
   "outputs": [],
   "source": [
    "if 'glove' in EMBEDDING_TYPE:\n",
    "    #text_field.vocab.load_vectors('glove.6B.{}d'.format(EMBEDDING_DIM))\n",
    "    text_field.vocab.load_vectors('glove.twitter.27B.100d')\n",
    "    if USE_GPU:\n",
    "        model.embeddings.weight.data = text_field.vocab.vectors.cuda()\n",
    "    else:\n",
    "        model.embeddings.weight.data = text_field.vocab.vectors\n",
    "    #model.embeddings.embed.weight.requires_grad = False\n",
    "elif 'word2vec' in EMBEDDING_TYPE:\n",
    "    word_to_idx = text_field.vocab.stoi\n",
    "    pretrained_embeddings = np.random.uniform(-0.25, 0.25, (len(text_field.vocab), 300))\n",
    "    pretrained_embeddings[0] = 0\n",
    "    try:\n",
    "        word2vec\n",
    "    except:\n",
    "        print('Load word embeddings...')\n",
    "        word2vec = load_bin_vec(os.path.join(bdata,'GoogleNews-vectors-negative300.bin'), word_to_idx)\n",
    "    for word, vector in word2vec.items():\n",
    "        pretrained_embeddings[word_to_idx[word]-1] = vector\n",
    "    # text_field.vocab.load_vectors(wv_type='', wv_dim=300)\n",
    "\n",
    "    model.embeddings.weight.data.copy_(torch.from_numpy(pretrained_embeddings));\n",
    "else:\n",
    "    print('Unknown embedding type {}'.format(EMBEDDING_TYPE))"
   ]
  },
  {
   "cell_type": "markdown",
   "metadata": {
    "extensions": {
     "jupyter_dashboards": {
      "version": 1,
      "views": {
       "grid_default": {},
       "report_default": {}
      }
     }
    }
   },
   "source": [
    "### The actual task (B1): Tensorboard instrumentation\n",
    "\n",
    "To get you to work with the some of the basic tools that enable development and tuning of deep learning architectures, we would like you to use Tensorboard.\n",
    "\n",
    "1. read up on how to instrument your code for profiling and visualization in [tensorboard](https://www.tensorflow.org/programmers_guide/summaries_and_tensorboard), e.g. [at this blog](http://www.erogol.com/use-tensorboard-pytorch/)\n",
    "1. [partly done] use the tensorboard `SummaryWriter` to keep track of training loss for each epoch, writing to a local `runs` folder (which is the default)\n",
    "1. launch tensorboard and inspect the log folder, i.e. run `tensorboard --logdir runs` from the assignment folder\n",
    "\n",
    "Note that only point 2 requires you to write code, about 4 lines of it."
   ]
  },
  {
   "cell_type": "code",
   "execution_count": 42,
   "metadata": {
    "extensions": {
     "jupyter_dashboards": {
      "version": 1,
      "views": {
       "grid_default": {},
       "report_default": {}
      }
     }
    }
   },
   "outputs": [
    {
     "name": "stdout",
     "output_type": "stream",
     "text": [
      "Writing to /home/abejju/A9/runs\n",
      "\n"
     ]
    }
   ],
   "source": [
    "from tensorboardX import SummaryWriter\n",
    "\n",
    "#out_dir = os.path.abspath(os.path.join(os.path.curdir, \"runs\", timestamp))\n",
    "out_dir = os.path.abspath(os.path.join(os.path.curdir, \"runs\"))\n",
    "writer = SummaryWriter(comment='-{}lstm-em{}{}-hid{}-do{}-bs{}-lr{}'\n",
    "                                .format('BI' if USE_BILSTM else '',\n",
    "                                        EMBEDDING_TYPE, EMBEDDING_DIM,\n",
    "                                        HIDDEN_DIM,\n",
    "                                        DROPOUT, BATCH_SIZE, LEARNING_RATE))\n",
    "print(\"Writing to {}\\n\".format(out_dir))\n",
    "if not os.path.exists(out_dir):\n",
    "    os.makedirs(out_dir)"
   ]
  },
  {
   "cell_type": "code",
   "execution_count": 43,
   "metadata": {
    "extensions": {
     "jupyter_dashboards": {
      "version": 1,
      "views": {
       "grid_default": {},
       "report_default": {}
      }
     }
    }
   },
   "outputs": [
    {
     "name": "stdout",
     "output_type": "stream",
     "text": [
      "Training...\n"
     ]
    },
    {
     "data": {
      "application/vnd.jupyter.widget-view+json": {
       "model_id": "976ff0ddc5c74eab81c5dc48c008d4f8",
       "version_major": 2,
       "version_minor": 0
      },
      "text/plain": [
       "HBox(children=(IntProgress(value=0, description='Train epoch 1', max=692, style=ProgressStyle(description_widt…"
      ]
     },
     "metadata": {},
     "output_type": "display_data"
    },
    {
     "name": "stdout",
     "output_type": "stream",
     "text": [
      "\n",
      "Train: loss 2.30 acc 50.5\n",
      "Dev: loss 6.77 acc 49.9\n",
      "Test: loss 7.51 acc 54.7\n"
     ]
    },
    {
     "data": {
      "application/vnd.jupyter.widget-view+json": {
       "model_id": "04e2675151a343ffa1598161c3b79893",
       "version_major": 2,
       "version_minor": 0
      },
      "text/plain": [
       "HBox(children=(IntProgress(value=0, description='Train epoch 2', max=692, style=ProgressStyle(description_widt…"
      ]
     },
     "metadata": {},
     "output_type": "display_data"
    },
    {
     "name": "stdout",
     "output_type": "stream",
     "text": [
      "\n",
      "Train: loss 2.23 acc 63.6\n",
      "Dev: loss 6.59 acc 76.6\n",
      "Test: loss 7.32 acc 75.6\n"
     ]
    },
    {
     "data": {
      "application/vnd.jupyter.widget-view+json": {
       "model_id": "be60079985bd4c9a9d40ab0f804439c4",
       "version_major": 2,
       "version_minor": 0
      },
      "text/plain": [
       "HBox(children=(IntProgress(value=0, description='Train epoch 3', max=692, style=ProgressStyle(description_widt…"
      ]
     },
     "metadata": {},
     "output_type": "display_data"
    },
    {
     "name": "stdout",
     "output_type": "stream",
     "text": [
      "\n",
      "Train: loss 1.94 acc 88.0\n",
      "Dev: loss 6.59 acc 77.2\n",
      "Test: loss 7.28 acc 79.7\n"
     ]
    },
    {
     "data": {
      "application/vnd.jupyter.widget-view+json": {
       "model_id": "c5e9955878384218b5bd2a94768d78f1",
       "version_major": 2,
       "version_minor": 0
      },
      "text/plain": [
       "HBox(children=(IntProgress(value=0, description='Train epoch 4', max=692, style=ProgressStyle(description_widt…"
      ]
     },
     "metadata": {},
     "output_type": "display_data"
    },
    {
     "name": "stdout",
     "output_type": "stream",
     "text": [
      "\n",
      "Train: loss 1.75 acc 96.6\n",
      "Dev: loss 6.78 acc 78.9\n",
      "Test: loss 7.48 acc 79.4\n"
     ]
    },
    {
     "data": {
      "application/vnd.jupyter.widget-view+json": {
       "model_id": "d71dfa47719245eb92236634ab9fafe3",
       "version_major": 2,
       "version_minor": 0
      },
      "text/plain": [
       "HBox(children=(IntProgress(value=0, description='Train epoch 5', max=692, style=ProgressStyle(description_widt…"
      ]
     },
     "metadata": {},
     "output_type": "display_data"
    },
    {
     "name": "stdout",
     "output_type": "stream",
     "text": [
      "\n",
      "Train: loss 1.70 acc 98.6\n",
      "Dev: loss 6.91 acc 78.4\n"
     ]
    },
    {
     "data": {
      "application/vnd.jupyter.widget-view+json": {
       "model_id": "bd432f37b4d34fe5ace7fbeaaca6414a",
       "version_major": 2,
       "version_minor": 0
      },
      "text/plain": [
       "HBox(children=(IntProgress(value=0, description='Train epoch 6', max=692, style=ProgressStyle(description_widt…"
      ]
     },
     "metadata": {},
     "output_type": "display_data"
    },
    {
     "name": "stdout",
     "output_type": "stream",
     "text": [
      "\n",
      "Train: loss 1.68 acc 99.2\n",
      "Dev: loss 6.99 acc 77.6\n"
     ]
    },
    {
     "data": {
      "application/vnd.jupyter.widget-view+json": {
       "model_id": "0ef990721c1d4eb1a5b18505ff719636",
       "version_major": 2,
       "version_minor": 0
      },
      "text/plain": [
       "HBox(children=(IntProgress(value=0, description='Train epoch 7', max=692, style=ProgressStyle(description_widt…"
      ]
     },
     "metadata": {},
     "output_type": "display_data"
    },
    {
     "name": "stdout",
     "output_type": "stream",
     "text": [
      "\n",
      "Train: loss 1.68 acc 99.7\n",
      "Dev: loss 7.36 acc 80.0\n",
      "Test: loss 8.07 acc 79.7\n"
     ]
    },
    {
     "data": {
      "application/vnd.jupyter.widget-view+json": {
       "model_id": "1e8d20117f964ba8b8d95b68b9d4978f",
       "version_major": 2,
       "version_minor": 0
      },
      "text/plain": [
       "HBox(children=(IntProgress(value=0, description='Train epoch 8', max=692, style=ProgressStyle(description_widt…"
      ]
     },
     "metadata": {},
     "output_type": "display_data"
    },
    {
     "name": "stdout",
     "output_type": "stream",
     "text": [
      "\n",
      "Train: loss 1.68 acc 99.6\n",
      "Dev: loss 7.33 acc 78.2\n"
     ]
    },
    {
     "data": {
      "application/vnd.jupyter.widget-view+json": {
       "model_id": "07393731c7e5494a85df25690b35404f",
       "version_major": 2,
       "version_minor": 0
      },
      "text/plain": [
       "HBox(children=(IntProgress(value=0, description='Train epoch 9', max=692, style=ProgressStyle(description_widt…"
      ]
     },
     "metadata": {},
     "output_type": "display_data"
    },
    {
     "name": "stdout",
     "output_type": "stream",
     "text": [
      "\n",
      "Train: loss 1.67 acc 99.9\n",
      "Dev: loss 7.43 acc 77.6\n"
     ]
    },
    {
     "data": {
      "application/vnd.jupyter.widget-view+json": {
       "model_id": "11fa0258851a4256acb7158daacbd778",
       "version_major": 2,
       "version_minor": 0
      },
      "text/plain": [
       "HBox(children=(IntProgress(value=0, description='Train epoch 10', max=692, style=ProgressStyle(description_wid…"
      ]
     },
     "metadata": {},
     "output_type": "display_data"
    },
    {
     "name": "stdout",
     "output_type": "stream",
     "text": [
      "\n",
      "Train: loss 1.67 acc 99.8\n",
      "Dev: loss 7.34 acc 77.1\n",
      "Final Test: loss 7.97 acc 78.5\n"
     ]
    }
   ],
   "source": [
    "print('Training...')\n",
    "trial = 0 # increment this if you manually decide to add more epochs to the current training\n",
    "for epoch in range(EPOCHS*trial,EPOCHS*(trial+1)):\n",
    "    avg_loss, acc = train_epoch_progress(model, train_iter, loss_function, optimizer, text_field, label_field, epoch)\n",
    "    tqdm.write('Train: loss %.2f acc %.1f' % (avg_loss, acc*100))\n",
    "    writer.add_scalar('Train/Loss', avg_loss, epoch)\n",
    "    writer.add_scalar('Train/Acc', acc*100, epoch)\n",
    "    # TODO: add scalars for training loss and training accuracy to the summary writer\n",
    "    # call the scalars 'Train/Loss' and 'Train/Acc', respectively, and associate them with the current epoch\n",
    "    #...\n",
    "\n",
    "    dev_loss, dev_acc = evaluate(model, dev_iter, loss_function, 'Dev')\n",
    "    writer.add_scalar('Val/Loss', dev_loss, epoch)\n",
    "    writer.add_scalar('Val/Acc', dev_acc*100, epoch)\n",
    "    # TODO: add scalars for test loss and training accuracy to the summary writer\n",
    "    # call the scalars 'Val/Loss' and 'Val/Acc', respectively, and associate them with the current epoch\n",
    "    #...\n",
    "    \n",
    "    if dev_acc > best_dev_acc:\n",
    "        if best_dev_acc > 0:\n",
    "            os.system('rm '+ out_dir + '/best_model' + '.pth')\n",
    "        best_dev_acc = dev_acc\n",
    "        best_model = model\n",
    "        torch.save(best_model.state_dict(), out_dir + '/best_model' + '.pth')\n",
    "        # evaluate on test with the best dev performance model\n",
    "        test_acc = evaluate(best_model, test_iter, loss_function, 'Test')\n",
    "\n",
    "test_loss, test_acc = evaluate(best_model, test_iter, loss_function, 'Final Test')"
   ]
  },
  {
   "cell_type": "code",
   "execution_count": 25,
   "metadata": {
    "extensions": {
     "jupyter_dashboards": {
      "version": 1,
      "views": {
       "grid_default": {},
       "report_default": {}
      }
     }
    }
   },
   "outputs": [],
   "source": [
    "writer.close()"
   ]
  },
  {
   "cell_type": "markdown",
   "metadata": {
    "extensions": {
     "jupyter_dashboards": {
      "version": 1,
      "views": {
       "grid_default": {},
       "report_default": {}
      }
     }
    }
   },
   "source": [
    "### Task B2: Tune the model\n",
    "\n",
    "After connecting the output of your model training and testing performance for monitoring in tensorboard. Change the model and training parameters above to improve the model performance. We would like to see variable plots of how validation accuracy evolves over a number of epochs for different parameter choices, you can stop exploring when you exceed a model accuracy of 76%.\n",
    "\n",
    "**Show a tensorboard screenshot with performance plots that combine at leat 5 different tuning attempts.** Store the screenshot as `tensorboard.png`. Then keep the best performing parameters set in this notebook for submission and evaluate the comparison with Vader below using your best model.\n",
    "\n",
    "Note, parameter and architecture tuning is an exercise that can go on for a long time. After you have tensorboard running, enabling you to observe learning progress for the algorithms in this notebook, **spend about half an hour tuning to improve the parameter choices**. Big leaps in performance actually require deeper research and may take days or months. While beyond the scope of this assignment, you now have the tools and background knowledge to do such work, if you want to."
   ]
  },
  {
   "cell_type": "markdown",
   "metadata": {
    "extensions": {
     "jupyter_dashboards": {
      "version": 1,
      "views": {
       "grid_default": {},
       "report_default": {}
      }
     }
    }
   },
   "source": [
    "## Comparison against Vader\n",
    "Vader is a rule-based sentiment analysis algorithm that performs quite well against more complex architectures. The test below is to see, whether LSTMs are able to beat its performance."
   ]
  },
  {
   "cell_type": "code",
   "execution_count": 26,
   "metadata": {
    "extensions": {
     "jupyter_dashboards": {
      "version": 1,
      "views": {
       "grid_default": {},
       "report_default": {}
      }
     }
    }
   },
   "outputs": [
    {
     "name": "stdout",
     "output_type": "stream",
     "text": [
      "vader acc: 0.6880834706205381\n"
     ]
    }
   ],
   "source": [
    "import nltk\n",
    "#nltk.download('vader_lexicon')\n",
    "from nltk.sentiment.vader import SentimentIntensityAnalyzer\n",
    "sid = SentimentIntensityAnalyzer()\n",
    "\n",
    "da = test_iter.data()\n",
    "dat = [(d.text, d.label, ' '.join(d.text)) for d in da]\n",
    "lab_vpred = np.zeros((len(dat), 2))\n",
    "for k, (_, label, sentence) in enumerate(dat):\n",
    "    ss = sid.polarity_scores(sentence)\n",
    "    lab_vpred[k,:] = (int(ss['compound']>0), int(label))\n",
    "print('vader acc: {}'.format(1-abs(lab_vpred[:,0]-lab_vpred[:,1]).mean()))"
   ]
  },
  {
   "cell_type": "code",
   "execution_count": 27,
   "metadata": {
    "extensions": {
     "jupyter_dashboards": {
      "version": 1,
      "views": {
       "grid_default": {},
       "report_default": {}
      }
     }
    },
    "scrolled": true
   },
   "outputs": [],
   "source": [
    "#test_iter.init_epoch\n",
    "batch = list(test_iter)[0]\n",
    "batch.text\n",
    "best_model.eval()\n",
    "pred = best_model(batch.text)"
   ]
  },
  {
   "cell_type": "code",
   "execution_count": 28,
   "metadata": {
    "extensions": {
     "jupyter_dashboards": {
      "version": 1,
      "views": {
       "grid_default": {},
       "report_default": {}
      }
     }
    }
   },
   "outputs": [
    {
     "name": "stdout",
     "output_type": "stream",
     "text": [
      "(Bi-)LSTM acc: 0.6803953871499177\n"
     ]
    }
   ],
   "source": [
    "labels = batch.label.data.cpu().detach() - 1\n",
    "labelsnp = labels.cpu().detach().numpy()\n",
    "prednp = pred.data.max(1)[1].cpu().numpy()\n",
    "lstm_acc = 1 - abs(prednp-labelsnp).mean()\n",
    "print('(Bi-)LSTM acc: {}'.format(lstm_acc))"
   ]
  },
  {
   "cell_type": "markdown",
   "metadata": {
    "extensions": {
     "jupyter_dashboards": {
      "version": 1,
      "views": {
       "grid_default": {},
       "report_default": {}
      }
     }
    }
   },
   "source": [
    "**Perform the model tuning and training in the previous task until you outperform the Vader algorithm by at least 5% in accuracy on the test set.** Note, this is not a separate task, but just additional code to check whether your tuning efforts have succeeded."
   ]
  },
  {
   "cell_type": "markdown",
   "metadata": {
    "extensions": {
     "jupyter_dashboards": {
      "version": 1,
      "views": {
       "grid_default": {},
       "report_default": {}
      }
     }
    }
   },
   "source": [
    "## Submission"
   ]
  },
  {
   "cell_type": "markdown",
   "metadata": {
    "extensions": {
     "jupyter_dashboards": {
      "version": 1,
      "views": {
       "grid_default": {},
       "report_default": {}
      }
     }
    }
   },
   "source": [
    "Save [this notebook](A9.ipynb) containing all cell output and upload your submission as one `A9.ipynb` file.\n",
    "Also, include the screenshot of your tensorboard debugging session as `tensorboard.png`."
   ]
  }
 ],
 "metadata": {
  "extensions": {
   "jupyter_dashboards": {
    "activeView": "grid_default",
    "version": 1,
    "views": {
     "grid_default": {
      "name": "grid",
      "type": "grid"
     },
     "report_default": {
      "name": "report",
      "type": "report"
     }
    }
   }
  },
  "kernelspec": {
   "display_name": "Python 3",
   "language": "python",
   "name": "python3"
  },
  "language_info": {
   "codemirror_mode": {
    "name": "ipython",
    "version": 3
   },
   "file_extension": ".py",
   "mimetype": "text/x-python",
   "name": "python",
   "nbconvert_exporter": "python",
   "pygments_lexer": "ipython3",
   "version": "3.6.6"
  }
 },
 "nbformat": 4,
 "nbformat_minor": 2
}
