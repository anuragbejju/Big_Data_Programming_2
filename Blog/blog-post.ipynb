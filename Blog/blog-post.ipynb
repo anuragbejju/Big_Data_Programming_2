{
 "cells": [
  {
   "cell_type": "markdown",
   "metadata": {},
   "source": [
    "# SFU Big Data Blog Post "
   ]
  },
  {
   "cell_type": "markdown",
   "metadata": {},
   "source": [
    "## Motivation"
   ]
  },
  {
   "cell_type": "markdown",
   "metadata": {},
   "source": [
    "Data science is a fast-growing field. To catch up, data scientists have to keep learning, e.g., by reading/writing blog posts. Most data scientists have the habit of reading blog posts. However, very few data scientists have the habit of writing blog posts. There are many advantages to write blog posts. First, it can train your communication skills.  Second, it can help you gain a deep understanding of what you write. Third, it may make you become more well known in the data science community. \n",
    "\n",
    "Given these advantages, we created this [SFU Big Data Publication](https://medium.com/sfu-big-data) on Medium. We hope that through this exercise, you will get familiar with how to write an excellent blog post, and form the habit of writing blog posts regularly.  \n",
    "\n",
    "**Please note that this is a group project (the same group as your final project).**\n"
   ]
  },
  {
   "cell_type": "markdown",
   "metadata": {},
   "source": [
    "## Step-by-step Instruction"
   ]
  },
  {
   "cell_type": "markdown",
   "metadata": {},
   "source": [
    " ### 1. What to write?"
   ]
  },
  {
   "cell_type": "markdown",
   "metadata": {},
   "source": [
    "The first thing you need to do is to decide what to blog about. There are two kinds of topics you can choose from. If you want to pick up a different topic, please post your topic on Piazza. We will let you know whether it is OK or not.  \n",
    "\n",
    "* [**Interview with X**]. Find 1~3 real-world data scientists/engineers/analysts, and do an interview with them. I highly recommend you to choose from our [SFU Big Data Alumni](https://www.linkedin.com/school/sfubigdata/people/). They have a similar background to you, so their interview answers could be quite valuable to you. Alternatively, you can contact a data science manager at your dream company and send a polite email to ask whether she/he is interested in your interview (I know this is not easy, but you will benefit a lot if you succeed!). There is no restriction on interview questions. Please feel free to ask any questions that will make your interview attractive. Please refer to [Data Scientist Interviews](https://www.datascienceweekly.org/data-scientist-interviews) for some examples.\n",
    "\n",
    "\n",
    "* [**Dive into X**]. Pick up a technique/algorithm/tool and dive into it. It can be any technique/algorithm/tool that you learned from a course at SFU. For example, you can pick up \"Spark DataFrame\" from CMPT 732, \"Python Requests\" from CMPT 733, \"RNN\" from CMPT 726, and \"Frequent Pattern Mining\" from CMPT 741. Note that in addition to cover what you've learned from the course, your blog post should cover at least 75% new materials. For example, suppose you pick up \"Python Requests\". Then you can write a blog post like [Python requests deep dive](https://medium.com/@anthonypjshaw/python-requests-deep-dive-a0a5c5c1e093). The new materials are *Understanding the Session object*, *Understanding PreparedRequest*, *Handling large requests, streams and iterators*, and *Testing with requests*.\n",
    "\n"
   ]
  },
  {
   "cell_type": "markdown",
   "metadata": {},
   "source": [
    "### 2. How to write?"
   ]
  },
  {
   "cell_type": "markdown",
   "metadata": {},
   "source": [
    "When deciding how to write your blog post, you should keep asking yourself the following two questions: \n",
    "\n",
    "* What can I do to make my blog post more attractive?\n",
    "* What can I do to make my blog post more easy to understand? \n",
    "\n",
    "For the first question, here are some tricks: (1) come up with an attractive blog title (see [this page](https://blog.hubspot.com/marketing/a-simple-formula-for-writing-kick-ass-titles-ht#sm.0000072w4nzrqmfn2vwd6y30afmyo) for some tips); (2) pay great attention to the first paragraph of your blog post (See [this page](https://problogger.com/10-tips-for-opening-your-next-blog-post/) for some tips); (2) add a couple of attractive images but make sure they are related to your blog post. \n",
    "\n",
    "For the second question, here are some tricks: (1) avoid using jargon (if you have to, please first explain them in simple words); (2) use examples and figures to illustrate complicate stuff; (3) leverage the power of analogies. \n",
    "\n",
    "As a test, answer these questions:\n",
    " * What if a kid asks you that \"If you fall into a black hole, where do you go?\"\n",
    " * What if your roommate majored in Biology asks you that \"Can you teach me how to write SQL in less than an hour?\" \n",
    " \n",
    "Make sure to first think about the answers by yourself, and then watch [this video](https://www.youtube.com/watch?v=3J7T1xxUn7M) and read this [blog post](http://www.sohamkamani.com/blog/2016/07/07/a-beginners-guide-to-sql/).  \n",
    "\n",
    "I hope everyone can use the opportunity to train the skill of blog writing. Such skill is increasingly important in the data science community. "
   ]
  },
  {
   "cell_type": "markdown",
   "metadata": {},
   "source": [
    "### 3. How to submit?"
   ]
  },
  {
   "cell_type": "markdown",
   "metadata": {},
   "source": [
    "You have to submit your blog post to **two places**:\n",
    "\n",
    "1. Please submit a blog post to [https://medium.com/sfu-big-data](https://medium.com/sfu-big-data). You should have recieved an invitation email. Note that each group only needs to submit a single blog post. \n",
    "\n",
    "2. Please submit the URL of your blog post to the CourSys activity Blog Post.\n",
    "\n",
    "**Requirements**\n",
    "\n",
    "1. The length has to be 1000-2000 words\n",
    "2. It is due on March 15 at midnight\n",
    "3. It's OK if you accidentally blog about the same topic as other groups\n",
    "\n",
    "**Grading**\n",
    "* We will grade your blog post based on its popularity as of April 1, where the popularity is measured by [Total Views * Read Ratio](https://help.medium.com/hc/en-us/articles/215108608-Your-stats#h_39697870341537882758817). \n",
    "* To get a high mark, you should not only write an attrative and easy-to-understand blog post, but also think about how to market your blog post. Here's some advice:\n",
    " * [What makes an article popular on Medium? We analyzed 10,000+ data points to find out](https://medium.com/the-mission/after-10-000-data-points-we-figured-out-how-to-write-a-perfect-medium-post-58c41c314f6a)\n",
    " * [This Is Why You Aren’t Successful Blogging On Medium](https://medium.com/the-mission/this-is-why-you-arent-successful-blogging-on-medium-7f849e1cda3e)\n",
    " * [Going Viral: How I got 10k Views on Medium in 4 days](https://growandconvert.com/content-marketing/going-viral-medium/)\n",
    " \n",
    "**Plagiarism**\n",
    " * Your blog post will be put online. If you got caught for plagiarism, you would not only get zero mark but also get your reputation hurt a lot. So don't cheat!\n",
    " "
   ]
  },
  {
   "cell_type": "markdown",
   "metadata": {},
   "source": [
    "### 4. Learn from each other"
   ]
  },
  {
   "cell_type": "markdown",
   "metadata": {},
   "source": [
    "In the weeks after submitting your post, please take a look at about 10 posts of your fellow class mates that you'd like to learn about. Feel free to rate or comment on them."
   ]
  }
 ],
 "metadata": {
  "kernelspec": {
   "display_name": "Python 3",
   "language": "python",
   "name": "python3"
  },
  "language_info": {
   "codemirror_mode": {
    "name": "ipython",
    "version": 3
   },
   "file_extension": ".py",
   "mimetype": "text/x-python",
   "name": "python",
   "nbconvert_exporter": "python",
   "pygments_lexer": "ipython3",
   "version": "3.6.4"
  }
 },
 "nbformat": 4,
 "nbformat_minor": 1
}
